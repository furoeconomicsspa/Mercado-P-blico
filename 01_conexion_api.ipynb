{
 "cells": [
  {
   "cell_type": "markdown",
   "id": "c9626297",
   "metadata": {},
   "source": [
    "# Conexión a una API\n",
    "Este notebook muestra cómo conectarse a una API utilizando Python."
   ]
  },
  {
   "cell_type": "code",
   "execution_count": null,
   "id": "d9bdfd74",
   "metadata": {},
   "outputs": [],
   "source": [
    "import requests\n",
    "import json"
   ]
  },
  {
   "cell_type": "code",
   "execution_count": null,
   "id": "919782b2",
   "metadata": {},
   "outputs": [],
   "source": [
    "# Definir la URL de la API\n",
    "api_url = 'https://api.ejemplo.com/data'"
   ]
  },
  {
   "cell_type": "code",
   "execution_count": null,
   "id": "2aef66dc",
   "metadata": {},
   "outputs": [],
   "source": [
    "# Realizar una solicitud GET\n",
    "response = requests.get(api_url)"
   ]
  },
  {
   "cell_type": "code",
   "execution_count": null,
   "id": "b2ea996c",
   "metadata": {},
   "outputs": [],
   "source": [
    "# Mostrar la respuesta\n",
    "if response.status_code == 200:\n",
    "    data = response.json()\n",
    "    print(json.dumps(data, indent=2))\n",
    "else:\n",
    "    print(f'Error en la solicitud: {response.status_code}')"
   ]
  }
 ],
 "metadata": {},
 "nbformat": 4,
 "nbformat_minor": 5
}
